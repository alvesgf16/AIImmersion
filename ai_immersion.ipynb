{
  "nbformat": 4,
  "nbformat_minor": 0,
  "metadata": {
    "colab": {
      "provenance": [],
      "authorship_tag": "ABX9TyMsi+wxou21RXEEoflTVxDx",
      "include_colab_link": true
    },
    "kernelspec": {
      "name": "python3",
      "display_name": "Python 3"
    },
    "language_info": {
      "name": "python"
    }
  },
  "cells": [
    {
      "cell_type": "markdown",
      "metadata": {
        "id": "view-in-github",
        "colab_type": "text"
      },
      "source": [
        "<a href=\"https://colab.research.google.com/github/alvesgf16/AIImmersion/blob/main/ai_immersion.ipynb\" target=\"_parent\"><img src=\"https://colab.research.google.com/assets/colab-badge.svg\" alt=\"Open In Colab\"/></a>"
      ]
    },
    {
      "cell_type": "markdown",
      "source": [
        "Installing, importing and configuring the Google AI Python SDK"
      ],
      "metadata": {
        "id": "GJGAicby3uei"
      }
    },
    {
      "cell_type": "code",
      "execution_count": 1,
      "metadata": {
        "id": "M89_HXiyzrwl"
      },
      "outputs": [],
      "source": [
        "!pip install -q -U google-generativeai"
      ]
    },
    {
      "cell_type": "code",
      "source": [
        "import google.generativeai as genai\n",
        "\n",
        "from google.colab import userdata\n",
        "\n",
        "GOOGLE_API_KEY = userdata.get('GOOGLE_API_KEY')\n",
        "genai.configure(api_key=GOOGLE_API_KEY)"
      ],
      "metadata": {
        "id": "ejJy4WbY1FDc"
      },
      "execution_count": 2,
      "outputs": []
    },
    {
      "cell_type": "markdown",
      "source": [
        "List available models"
      ],
      "metadata": {
        "id": "uanv1ynd4QOD"
      }
    },
    {
      "cell_type": "code",
      "source": [
        "print('\\n'.join([\n",
        "    model.name\n",
        "    for model in genai.list_models()\n",
        "    if 'generateContent' in model.supported_generation_methods\n",
        "]))"
      ],
      "metadata": {
        "colab": {
          "base_uri": "https://localhost:8080/",
          "height": 139
        },
        "id": "96O-hzEC2kyQ",
        "outputId": "b71ef1be-d504-41cb-f22b-0a852450131c"
      },
      "execution_count": 4,
      "outputs": [
        {
          "output_type": "stream",
          "name": "stdout",
          "text": [
            "models/gemini-1.0-pro\n",
            "models/gemini-1.0-pro-001\n",
            "models/gemini-1.0-pro-latest\n",
            "models/gemini-1.0-pro-vision-latest\n",
            "models/gemini-1.5-pro-latest\n",
            "models/gemini-pro\n",
            "models/gemini-pro-vision\n"
          ]
        }
      ]
    },
    {
      "cell_type": "markdown",
      "source": [
        "Create model parameters"
      ],
      "metadata": {
        "id": "wckY06C__R08"
      }
    },
    {
      "cell_type": "code",
      "source": [
        "generation_config: genai.GenerationConfig = {\n",
        "    'candidate_count': 1,\n",
        "    'temperature': 0.5,\n",
        "}"
      ],
      "metadata": {
        "id": "DrqLve372tb5"
      },
      "execution_count": 8,
      "outputs": []
    },
    {
      "cell_type": "code",
      "source": [
        "safety_settings = {\n",
        "    'HARASSMENT': 'BLOCK_NONE',\n",
        "    'HATE': 'BLOCK_NONE',\n",
        "    'SEXUAL': 'BLOCK_NONE',\n",
        "    'DANGEROUS': 'BLOCK_NONE',\n",
        "}"
      ],
      "metadata": {
        "id": "19_0tieb-dMk"
      },
      "execution_count": 6,
      "outputs": []
    },
    {
      "cell_type": "markdown",
      "source": [
        "Initialize model and test it"
      ],
      "metadata": {
        "id": "gMG7QYlt_l_f"
      }
    },
    {
      "cell_type": "code",
      "source": [
        "model = genai.GenerativeModel(model_name='gemini-1.0-pro',\n",
        "                              generation_config=generation_config,\n",
        "                              safety_settings=safety_settings)"
      ],
      "metadata": {
        "id": "hVY6_4pa_oKo"
      },
      "execution_count": 9,
      "outputs": []
    },
    {
      "cell_type": "code",
      "source": [
        "response = model.generate_content(\"Let's learn content about AI. Give me suggestions.\")\n",
        "print(response.text)"
      ],
      "metadata": {
        "colab": {
          "base_uri": "https://localhost:8080/",
          "height": 816
        },
        "id": "-RjQ5D5wC_1K",
        "outputId": "3458122a-2040-4369-ea80-6fec853beaf1"
      },
      "execution_count": 10,
      "outputs": [
        {
          "output_type": "stream",
          "name": "stdout",
          "text": [
            "**Online Courses and Programs:**\n",
            "\n",
            "* **Coursera:**\n",
            "    * Machine Learning\n",
            "    * Deep Learning Specialization\n",
            "    * Artificial Intelligence: Principles and Techniques\n",
            "* **edX:**\n",
            "    * Introduction to Artificial Intelligence (MIT)\n",
            "    * Artificial Intelligence (IBM)\n",
            "    * Machine Learning (Microsoft)\n",
            "* **Udacity:**\n",
            "    * Intro to Artificial Intelligence\n",
            "    * Machine Learning Nanodegree\n",
            "    * Deep Learning Nanodegree\n",
            "\n",
            "**Books:**\n",
            "\n",
            "* **Artificial Intelligence: A Modern Approach (4th Edition)** by Stuart Russell and Peter Norvig\n",
            "* **Machine Learning Yearning** by Andrew Ng\n",
            "* **Deep Learning** by Ian Goodfellow, Yoshua Bengio, and Aaron Courville\n",
            "* **The Elements of Statistical Learning** by Trevor Hastie, Robert Tibshirani, and Jerome Friedman\n",
            "* **Pattern Recognition and Machine Learning** by Christopher Bishop\n",
            "\n",
            "**Blogs and Websites:**\n",
            "\n",
            "* **AI Now Institute**\n",
            "* **OpenAI**\n",
            "* **DeepMind**\n",
            "* **MIT Technology Review**\n",
            "* **Gartner**\n",
            "\n",
            "**Conferences and Events:**\n",
            "\n",
            "* **AAAI (Association for the Advancement of Artificial Intelligence) Conference**\n",
            "* **ICML (International Conference on Machine Learning)**\n",
            "* **NIPS (Neural Information Processing Systems)**\n",
            "* **CVPR (Computer Vision and Pattern Recognition)**\n",
            "* **ICLR (International Conference on Learning Representations)**\n",
            "\n",
            "**Additional Resources:**\n",
            "\n",
            "* **Google AI Blog**\n",
            "* **Facebook AI Research**\n",
            "* **IBM Research AI**\n",
            "* **Microsoft Research AI**\n",
            "* **Kaggle** (online platform for data science and machine learning competitions)\n"
          ]
        }
      ]
    },
    {
      "cell_type": "markdown",
      "source": [
        "Create chat"
      ],
      "metadata": {
        "id": "8yVpxObeE65g"
      }
    },
    {
      "cell_type": "code",
      "source": [
        "chat = model.start_chat(history=[])"
      ],
      "metadata": {
        "id": "1LsltzKiD0GC"
      },
      "execution_count": 11,
      "outputs": []
    },
    {
      "cell_type": "code",
      "source": [
        "prompt = input('Prompt: ')\n",
        "\n",
        "while prompt != 'end':\n",
        "    response = chat.send_message(prompt)\n",
        "    print(f'Response: {response.text} \\n')\n",
        "    prompt = input('Prompt: ')"
      ],
      "metadata": {
        "colab": {
          "base_uri": "https://localhost:8080/",
          "height": 243
        },
        "id": "YIMdbSwMERlW",
        "outputId": "36b9d186-a167-4220-8318-b00b02da5c96"
      },
      "execution_count": 12,
      "outputs": [
        {
          "name": "stdout",
          "output_type": "stream",
          "text": [
            "Awaiting prompt: What is the capital of Japan?\n",
            "Response: Tokyo \n",
            "\n",
            "Awaiting prompt: What is the typical food in this country?\n",
            "Response: Sushi, sashimi, tempura, ramen, udon, soba, onigiri, yakitori, shabu-shabu, sukiyaki \n",
            "\n",
            "Awaiting prompt: My cousin was born in this city. What is his nationality?\n",
            "Response: Japanese \n",
            "\n",
            "Awaiting prompt: And what is the population of this city?\n",
            "Response: 13,960,324 (2023) \n",
            "\n",
            "Awaiting prompt: end\n"
          ]
        }
      ]
    },
    {
      "cell_type": "markdown",
      "source": [
        "Improve visualization"
      ],
      "metadata": {
        "id": "vM0eGPC3Gt5q"
      }
    },
    {
      "cell_type": "code",
      "source": [
        "import textwrap\n",
        "from IPython.display import display, Markdown\n",
        "\n",
        "\n",
        "# Function to Markdown-format text\n",
        "def to_markdown(text):\n",
        "  text = text.replace('•', '  *')\n",
        "  return Markdown(textwrap.indent(text, '> ', predicate=lambda _: True))\n",
        "\n",
        "\n",
        "for message in chat.history:\n",
        "    message_type = 'Prompt' if message.role == 'user' else 'Response'\n",
        "    display(to_markdown(f\"**{message_type}**: {message.parts[0].text}\"))\n",
        "    print('-------------------------------------------')"
      ],
      "metadata": {
        "colab": {
          "base_uri": "https://localhost:8080/",
          "height": 519
        },
        "id": "Pikt-KP1GtDN",
        "outputId": "0a83ee66-6398-495e-a67b-bc46f60332ce"
      },
      "execution_count": 13,
      "outputs": [
        {
          "output_type": "display_data",
          "data": {
            "text/plain": [
              "<IPython.core.display.Markdown object>"
            ],
            "text/markdown": "> **Prompt**: What is the capital of Japan?"
          },
          "metadata": {}
        },
        {
          "output_type": "stream",
          "name": "stdout",
          "text": [
            "-------------------------------------------\n"
          ]
        },
        {
          "output_type": "display_data",
          "data": {
            "text/plain": [
              "<IPython.core.display.Markdown object>"
            ],
            "text/markdown": "> **Response**: Tokyo"
          },
          "metadata": {}
        },
        {
          "output_type": "stream",
          "name": "stdout",
          "text": [
            "-------------------------------------------\n"
          ]
        },
        {
          "output_type": "display_data",
          "data": {
            "text/plain": [
              "<IPython.core.display.Markdown object>"
            ],
            "text/markdown": "> **Prompt**: What is the typical food in this country?"
          },
          "metadata": {}
        },
        {
          "output_type": "stream",
          "name": "stdout",
          "text": [
            "-------------------------------------------\n"
          ]
        },
        {
          "output_type": "display_data",
          "data": {
            "text/plain": [
              "<IPython.core.display.Markdown object>"
            ],
            "text/markdown": "> **Response**: Sushi, sashimi, tempura, ramen, udon, soba, onigiri, yakitori, shabu-shabu, sukiyaki"
          },
          "metadata": {}
        },
        {
          "output_type": "stream",
          "name": "stdout",
          "text": [
            "-------------------------------------------\n"
          ]
        },
        {
          "output_type": "display_data",
          "data": {
            "text/plain": [
              "<IPython.core.display.Markdown object>"
            ],
            "text/markdown": "> **Prompt**: My cousin was born in this city. What is his nationality?"
          },
          "metadata": {}
        },
        {
          "output_type": "stream",
          "name": "stdout",
          "text": [
            "-------------------------------------------\n"
          ]
        },
        {
          "output_type": "display_data",
          "data": {
            "text/plain": [
              "<IPython.core.display.Markdown object>"
            ],
            "text/markdown": "> **Response**: Japanese"
          },
          "metadata": {}
        },
        {
          "output_type": "stream",
          "name": "stdout",
          "text": [
            "-------------------------------------------\n"
          ]
        },
        {
          "output_type": "display_data",
          "data": {
            "text/plain": [
              "<IPython.core.display.Markdown object>"
            ],
            "text/markdown": "> **Prompt**: And what is the population of this city?"
          },
          "metadata": {}
        },
        {
          "output_type": "stream",
          "name": "stdout",
          "text": [
            "-------------------------------------------\n"
          ]
        },
        {
          "output_type": "display_data",
          "data": {
            "text/plain": [
              "<IPython.core.display.Markdown object>"
            ],
            "text/markdown": "> **Response**: 13,960,324 (2023)"
          },
          "metadata": {}
        },
        {
          "output_type": "stream",
          "name": "stdout",
          "text": [
            "-------------------------------------------\n"
          ]
        }
      ]
    }
  ]
}