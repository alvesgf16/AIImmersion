{
  "cells": [
    {
      "cell_type": "markdown",
      "metadata": {
        "colab_type": "text",
        "id": "view-in-github"
      },
      "source": [
        "<a href=\"https://colab.research.google.com/github/alvesgf16/AIImmersion/blob/main/ai_immersion.ipynb\" target=\"_parent\"><img src=\"https://colab.research.google.com/assets/colab-badge.svg\" alt=\"Open In Colab\"/></a>"
      ]
    },
    {
      "cell_type": "markdown",
      "metadata": {
        "id": "GJGAicby3uei"
      },
      "source": [
        "Installing, importing and configuring the Google AI Python SDK"
      ]
    },
    {
      "cell_type": "code",
      "execution_count": 1,
      "metadata": {
        "id": "M89_HXiyzrwl"
      },
      "outputs": [
        {
          "name": "stdout",
          "output_type": "stream",
          "text": [
            "Note: you may need to restart the kernel to use updated packages.\n",
            "Requirement already satisfied: python-dotenv in c:\\users\\gabriel\\onedrive\\documentos\\software development\\alura\\aiimmersion\\aiimmersion\\venv\\lib\\site-packages (1.0.1)\n",
            "Note: you may need to restart the kernel to use updated packages.\n"
          ]
        }
      ],
      "source": [
        "# !pip install -q -U google-generativeai  # use this in Google Colab\n",
        "# Otherwise, use the code below\n",
        "%pip install -q -U google-generativeai\n",
        "%pip install python-dotenv"
      ]
    },
    {
      "cell_type": "code",
      "execution_count": 2,
      "metadata": {
        "id": "ejJy4WbY1FDc"
      },
      "outputs": [
        {
          "data": {
            "text/plain": [
              "True"
            ]
          },
          "execution_count": 2,
          "metadata": {},
          "output_type": "execute_result"
        }
      ],
      "source": [
        "import google.generativeai as genai\n",
        "\n",
        "# from google.colab import userdata  # use this in Google Colab\n",
        "# Otherwise, use the code below\n",
        "from dotenv import load_dotenv\n",
        "import os\n",
        "\n",
        "load_dotenv()"
      ]
    },
    {
      "cell_type": "code",
      "execution_count": 3,
      "metadata": {},
      "outputs": [],
      "source": [
        "\n",
        "# GOOGLE_API_KEY = userdata.get('GOOGLE_API_KEY')  # use this in Google Colab\n",
        "GOOGLE_API_KEY = os.environ.get(\"GOOGLE_API_KEY\")  # otherwise, use this"
      ]
    },
    {
      "cell_type": "code",
      "execution_count": 4,
      "metadata": {},
      "outputs": [],
      "source": [
        "\n",
        "genai.configure(api_key=GOOGLE_API_KEY)"
      ]
    },
    {
      "cell_type": "markdown",
      "metadata": {
        "id": "uanv1ynd4QOD"
      },
      "source": [
        "List available models"
      ]
    },
    {
      "cell_type": "code",
      "execution_count": 5,
      "metadata": {
        "colab": {
          "base_uri": "https://localhost:8080/",
          "height": 139
        },
        "id": "96O-hzEC2kyQ",
        "outputId": "b71ef1be-d504-41cb-f22b-0a852450131c"
      },
      "outputs": [
        {
          "name": "stdout",
          "output_type": "stream",
          "text": [
            "models/gemini-1.0-pro\n",
            "models/gemini-1.0-pro-001\n",
            "models/gemini-1.0-pro-latest\n",
            "models/gemini-1.0-pro-vision-latest\n",
            "models/gemini-1.5-pro-latest\n",
            "models/gemini-pro\n",
            "models/gemini-pro-vision\n"
          ]
        }
      ],
      "source": [
        "print('\\n'.join([\n",
        "    model.name\n",
        "    for model in genai.list_models()\n",
        "    if 'generateContent' in model.supported_generation_methods\n",
        "]))"
      ]
    },
    {
      "cell_type": "markdown",
      "metadata": {
        "id": "wckY06C__R08"
      },
      "source": [
        "Create model parameters"
      ]
    },
    {
      "cell_type": "code",
      "execution_count": 6,
      "metadata": {
        "id": "DrqLve372tb5"
      },
      "outputs": [],
      "source": [
        "generation_config: genai.GenerationConfig = {\n",
        "    'candidate_count': 1,\n",
        "    'temperature': 0.5,\n",
        "}"
      ]
    },
    {
      "cell_type": "code",
      "execution_count": 7,
      "metadata": {
        "id": "19_0tieb-dMk"
      },
      "outputs": [],
      "source": [
        "safety_settings = {\n",
        "    'HARASSMENT': 'BLOCK_NONE',\n",
        "    'HATE': 'BLOCK_NONE',\n",
        "    'SEXUAL': 'BLOCK_NONE',\n",
        "    'DANGEROUS': 'BLOCK_NONE',\n",
        "}"
      ]
    },
    {
      "cell_type": "markdown",
      "metadata": {
        "id": "gMG7QYlt_l_f"
      },
      "source": [
        "Initialize model and test it"
      ]
    },
    {
      "cell_type": "code",
      "execution_count": 8,
      "metadata": {
        "id": "hVY6_4pa_oKo"
      },
      "outputs": [],
      "source": [
        "model = genai.GenerativeModel(model_name='gemini-1.0-pro',\n",
        "                              generation_config=generation_config,\n",
        "                              safety_settings=safety_settings)"
      ]
    },
    {
      "cell_type": "code",
      "execution_count": 9,
      "metadata": {
        "colab": {
          "base_uri": "https://localhost:8080/",
          "height": 816
        },
        "id": "-RjQ5D5wC_1K",
        "outputId": "3458122a-2040-4369-ea80-6fec853beaf1"
      },
      "outputs": [
        {
          "name": "stdout",
          "output_type": "stream",
          "text": [
            "**Online Courses and Platforms:**\n",
            "\n",
            "* Coursera: AI for Everyone, Machine Learning, Deep Learning\n",
            "* edX: Artificial Intelligence (AI) MicroMasters, Introduction to Artificial Intelligence\n",
            "* Udacity: Intro to Artificial Intelligence, Deep Learning Nanodegree\n",
            "* MIT OpenCourseWare: Introduction to Artificial Intelligence, Machine Learning\n",
            "* Stanford Online: Artificial Intelligence: Principles and Techniques\n",
            "\n",
            "**Books:**\n",
            "\n",
            "* \"Artificial Intelligence: A Modern Approach\" by Stuart Russell and Peter Norvig\n",
            "* \"Machine Learning Yearning\" by Andrew Ng\n",
            "* \"Deep Learning\" by Ian Goodfellow, Yoshua Bengio, and Aaron Courville\n",
            "* \"Hands-On Machine Learning with Scikit-Learn, Keras, and TensorFlow\" by Aurélien Géron\n",
            "* \"Artificial Intelligence for Humans\" by Jeff Heaton\n",
            "\n",
            "**Articles and Blogs:**\n",
            "\n",
            "* MIT Technology Review: AI section\n",
            "* Wired: AI section\n",
            "* The Verge: AI section\n",
            "* VentureBeat: AI section\n",
            "* Towards Data Science: AI and Machine Learning articles\n",
            "\n",
            "**Videos and Documentaries:**\n",
            "\n",
            "* TED Talks: AI playlist\n",
            "* YouTube channels:\n",
            "    * Lex Fridman\n",
            "    * Andrew Ng\n",
            "    * DeepMind\n",
            "    * Google AI\n",
            "* Documentaries:\n",
            "    * \"AlphaGo\"\n",
            "    * \"The Age of AI\"\n",
            "    * \"Ex Machina\"\n",
            "\n",
            "**Other Resources:**\n",
            "\n",
            "* OpenAI: Non-profit AI research company\n",
            "* Google AI: Research and development arm of Google\n",
            "* Facebook AI Research: Research and development arm of Facebook\n",
            "* IEEE Transactions on Artificial Intelligence: Academic journal\n",
            "* International Joint Conference on Artificial Intelligence (IJCAI): Annual conference\n"
          ]
        }
      ],
      "source": [
        "response = model.generate_content(\"Let's learn content about AI. Give me suggestions.\")\n",
        "print(response.text)"
      ]
    },
    {
      "cell_type": "markdown",
      "metadata": {
        "id": "8yVpxObeE65g"
      },
      "source": [
        "Create chat"
      ]
    },
    {
      "cell_type": "code",
      "execution_count": 10,
      "metadata": {
        "id": "1LsltzKiD0GC"
      },
      "outputs": [],
      "source": [
        "chat = model.start_chat(history=[])"
      ]
    },
    {
      "cell_type": "code",
      "execution_count": 11,
      "metadata": {
        "colab": {
          "base_uri": "https://localhost:8080/",
          "height": 243
        },
        "id": "YIMdbSwMERlW",
        "outputId": "36b9d186-a167-4220-8318-b00b02da5c96"
      },
      "outputs": [
        {
          "name": "stdout",
          "output_type": "stream",
          "text": [
            "Prompt: What is the capital of Japan?\n",
            "Response: Tokyo \n",
            "\n",
            "Prompt: What is the typical food in this country?\n",
            "Response: Sushi \n",
            "\n",
            "Prompt: My cousin was born in this city. What is his nationality?\n",
            "Response: Japanese \n",
            "\n",
            "Prompt: And what is the population of this city?\n",
            "Response: 37,339,804 \n",
            "\n"
          ]
        }
      ],
      "source": [
        "prompt = input('Prompt: ')\n",
        "\n",
        "while prompt != 'end':\n",
        "    response = chat.send_message(prompt)\n",
        "    print(f'Prompt: {prompt}')  # comment this line if using Google Colab\n",
        "    print(f'Response: {response.text} \\n')\n",
        "    prompt = input('Prompt: ')"
      ]
    },
    {
      "cell_type": "markdown",
      "metadata": {
        "id": "vM0eGPC3Gt5q"
      },
      "source": [
        "Improve visualization"
      ]
    },
    {
      "cell_type": "code",
      "execution_count": 12,
      "metadata": {
        "colab": {
          "base_uri": "https://localhost:8080/",
          "height": 519
        },
        "id": "Pikt-KP1GtDN",
        "outputId": "0a83ee66-6398-495e-a67b-bc46f60332ce"
      },
      "outputs": [
        {
          "data": {
            "text/markdown": [
              "> **Prompt**: What is the capital of Japan?"
            ],
            "text/plain": [
              "<IPython.core.display.Markdown object>"
            ]
          },
          "metadata": {},
          "output_type": "display_data"
        },
        {
          "name": "stdout",
          "output_type": "stream",
          "text": [
            "-------------------------------------------\n"
          ]
        },
        {
          "data": {
            "text/markdown": [
              "> **Response**: Tokyo"
            ],
            "text/plain": [
              "<IPython.core.display.Markdown object>"
            ]
          },
          "metadata": {},
          "output_type": "display_data"
        },
        {
          "name": "stdout",
          "output_type": "stream",
          "text": [
            "-------------------------------------------\n"
          ]
        },
        {
          "data": {
            "text/markdown": [
              "> **Prompt**: What is the typical food in this country?"
            ],
            "text/plain": [
              "<IPython.core.display.Markdown object>"
            ]
          },
          "metadata": {},
          "output_type": "display_data"
        },
        {
          "name": "stdout",
          "output_type": "stream",
          "text": [
            "-------------------------------------------\n"
          ]
        },
        {
          "data": {
            "text/markdown": [
              "> **Response**: Sushi"
            ],
            "text/plain": [
              "<IPython.core.display.Markdown object>"
            ]
          },
          "metadata": {},
          "output_type": "display_data"
        },
        {
          "name": "stdout",
          "output_type": "stream",
          "text": [
            "-------------------------------------------\n"
          ]
        },
        {
          "data": {
            "text/markdown": [
              "> **Prompt**: My cousin was born in this city. What is his nationality?"
            ],
            "text/plain": [
              "<IPython.core.display.Markdown object>"
            ]
          },
          "metadata": {},
          "output_type": "display_data"
        },
        {
          "name": "stdout",
          "output_type": "stream",
          "text": [
            "-------------------------------------------\n"
          ]
        },
        {
          "data": {
            "text/markdown": [
              "> **Response**: Japanese"
            ],
            "text/plain": [
              "<IPython.core.display.Markdown object>"
            ]
          },
          "metadata": {},
          "output_type": "display_data"
        },
        {
          "name": "stdout",
          "output_type": "stream",
          "text": [
            "-------------------------------------------\n"
          ]
        },
        {
          "data": {
            "text/markdown": [
              "> **Prompt**: And what is the population of this city?"
            ],
            "text/plain": [
              "<IPython.core.display.Markdown object>"
            ]
          },
          "metadata": {},
          "output_type": "display_data"
        },
        {
          "name": "stdout",
          "output_type": "stream",
          "text": [
            "-------------------------------------------\n"
          ]
        },
        {
          "data": {
            "text/markdown": [
              "> **Response**: 37,339,804"
            ],
            "text/plain": [
              "<IPython.core.display.Markdown object>"
            ]
          },
          "metadata": {},
          "output_type": "display_data"
        },
        {
          "name": "stdout",
          "output_type": "stream",
          "text": [
            "-------------------------------------------\n"
          ]
        }
      ],
      "source": [
        "import textwrap\n",
        "from IPython.display import display, Markdown\n",
        "\n",
        "\n",
        "# Function to Markdown-format text\n",
        "def to_markdown(text):\n",
        "  text = text.replace('•', '  *')\n",
        "  return Markdown(textwrap.indent(text, '> ', predicate=lambda _: True))\n",
        "\n",
        "\n",
        "for message in chat.history:\n",
        "    message_type = 'Prompt' if message.role == 'user' else 'Response'\n",
        "    display(to_markdown(f\"**{message_type}**: {message.parts[0].text}\"))\n",
        "    print('-------------------------------------------')"
      ]
    }
  ],
  "metadata": {
    "colab": {
      "authorship_tag": "ABX9TyMsi+wxou21RXEEoflTVxDx",
      "include_colab_link": true,
      "provenance": []
    },
    "kernelspec": {
      "display_name": "Python 3",
      "name": "python3"
    },
    "language_info": {
      "codemirror_mode": {
        "name": "ipython",
        "version": 3
      },
      "file_extension": ".py",
      "mimetype": "text/x-python",
      "name": "python",
      "nbconvert_exporter": "python",
      "pygments_lexer": "ipython3",
      "version": "3.12.0"
    }
  },
  "nbformat": 4,
  "nbformat_minor": 0
}
